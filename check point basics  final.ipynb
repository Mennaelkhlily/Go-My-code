{
 "cells": [
  {
   "cell_type": "code",
   "execution_count": null,
   "id": "0ce30fe5",
   "metadata": {},
   "outputs": [],
   "source": [
    "first=input()\n",
    "last=input()\n",
    "print(last,first)"
   ]
  },
  {
   "cell_type": "code",
   "execution_count": null,
   "id": "87b2055e",
   "metadata": {},
   "outputs": [],
   "source": [
    "x=(5+55+555)\n",
    "print(x)"
   ]
  },
  {
   "cell_type": "code",
   "execution_count": null,
   "id": "098fd954",
   "metadata": {},
   "outputs": [],
   "source": [
    "number=[1,2,3,4,5,6,8]\n",
    "     print(val)\n",
    "for i in range (5)\n",
    "     print(i)"
   ]
  },
  {
   "cell_type": "code",
   "execution_count": null,
   "id": "b97f8812",
   "metadata": {},
   "outputs": [],
   "source": [
    "for i in range (2000,3201):\n",
    "    if (i%7==0)and (i%5!=0):\n",
    "        print (i)"
   ]
  },
  {
   "cell_type": "code",
   "execution_count": null,
   "id": "ea55db9d",
   "metadata": {},
   "outputs": [],
   "source": [
    "if x%2 ==0:\n",
    "    print (\"even\")\n",
    "else:\n",
    "    print (\"odd\")\n"
   ]
  },
  {
   "cell_type": "code",
   "execution_count": null,
   "id": "82b6b72a",
   "metadata": {},
   "outputs": [],
   "source": [
    "x = int(input())\n",
    "result =1\n",
    "while x> 0:\n",
    "    result *= x\n",
    "    x=x-1\n",
    "    print (result) "
   ]
  },
  {
   "cell_type": "code",
   "execution_count": null,
   "id": "9b3c1ff8",
   "metadata": {},
   "outputs": [],
   "source": [
    "y = \"\"\n",
    "x=\"hello team\"\n",
    "for i in range (len(x)):\n",
    "    if i %2==0:\n",
    "        y+=x[i]\n",
    "print(y)\n"
   ]
  },
  {
   "cell_type": "code",
   "execution_count": null,
   "id": "e6b61ee0",
   "metadata": {},
   "outputs": [],
   "source": [
    "x=int(input())\n",
    "if x > 499:\n",
    "    print(x*0.5)\n",
    "elif x in range (199,500):\n",
    "    print (x*0.7)\n",
    "else:\n",
    "    print(x*0.9)\n",
    "    "
   ]
  },
  {
   "cell_type": "code",
   "execution_count": null,
   "id": "0239c324",
   "metadata": {},
   "outputs": [],
   "source": []
  }
 ],
 "metadata": {
  "kernelspec": {
   "display_name": "Python 3 (ipykernel)",
   "language": "python",
   "name": "python3"
  },
  "language_info": {
   "codemirror_mode": {
    "name": "ipython",
    "version": 3
   },
   "file_extension": ".py",
   "mimetype": "text/x-python",
   "name": "python",
   "nbconvert_exporter": "python",
   "pygments_lexer": "ipython3",
   "version": "3.9.12"
  }
 },
 "nbformat": 4,
 "nbformat_minor": 5
}
