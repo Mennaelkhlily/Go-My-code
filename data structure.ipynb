{
 "cells": [
  {
   "cell_type": "code",
   "execution_count": 9,
   "id": "0f1c36d9",
   "metadata": {},
   "outputs": [
    {
     "name": "stdout",
     "output_type": "stream",
     "text": [
      "[(2, 1), (2, 2), (3, 3)]\n"
     ]
    }
   ],
   "source": [
    "#Q2\n",
    "my_list=[(2,2),(2,1),(3,3)]\n",
    "my_list.sort(key=lambda x:x[-1])\n",
    "print(my_list)"
   ]
  },
  {
   "cell_type": "code",
   "execution_count": 10,
   "id": "3ba5da54",
   "metadata": {},
   "outputs": [
    {
     "name": "stdout",
     "output_type": "stream",
     "text": [
      "50\n"
     ]
    }
   ],
   "source": [
    "#Q1\n",
    "my_list = [25, 1, 2]\n",
    "\n",
    "result = 1\n",
    "for i in my_list:\n",
    "    result *= i\n",
    "\n",
    "print(result)"
   ]
  },
  {
   "cell_type": "code",
   "execution_count": 5,
   "id": "4136e6ea",
   "metadata": {},
   "outputs": [],
   "source": [
    "#Q3,Q4,Q6\n",
    "#\"\"I don't know the answer\" and searched did andn still didn't get it \"\""
   ]
  },
  {
   "cell_type": "code",
   "execution_count": 13,
   "id": "7d0a8706",
   "metadata": {},
   "outputs": [
    {
     "name": "stdout",
     "output_type": "stream",
     "text": [
      "[('item3', '24.5'), ('item2', '15.10'), ('item1', '12.20')]\n"
     ]
    }
   ],
   "source": [
    "#Q5\n",
    "#Question 5 \n",
    "#Write a program to sort a tuple by its float element. \n",
    "#For example: list= [('item1', '12.20'), ('item2', '15.10'), ('item3', '24.5')]\n",
    "#Expected result: [('item3', '24.5'), ('item2', '15.10'), ('item1', '12.20')]\n",
    "\n",
    "\n",
    "my_list = [('item1', '12.20'), ('item2', '15.10'), ('item3', '24.5')]\n",
    "\n",
    "my_list.sort(key=lambda x: float(x[1]), reverse=True)\n",
    "\n",
    "print(my_list)"
   ]
  },
  {
   "cell_type": "code",
   "execution_count": null,
   "id": "8bc9144a",
   "metadata": {},
   "outputs": [],
   "source": []
  }
 ],
 "metadata": {
  "kernelspec": {
   "display_name": "Python 3 (ipykernel)",
   "language": "python",
   "name": "python3"
  },
  "language_info": {
   "codemirror_mode": {
    "name": "ipython",
    "version": 3
   },
   "file_extension": ".py",
   "mimetype": "text/x-python",
   "name": "python",
   "nbconvert_exporter": "python",
   "pygments_lexer": "ipython3",
   "version": "3.9.13"
  }
 },
 "nbformat": 4,
 "nbformat_minor": 5
}
