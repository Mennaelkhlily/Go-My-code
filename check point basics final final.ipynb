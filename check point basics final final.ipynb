{
 "cells": [
  {
   "cell_type": "code",
   "execution_count": null,
   "id": "0ce30fe5",
   "metadata": {},
   "outputs": [],
   "source": [
    "#Q1\n",
    "first=input()\n",
    "last=input()\n",
    "print(last,first)"
   ]
  },
  {
   "cell_type": "code",
   "execution_count": null,
   "id": "cd6e5fa1",
   "metadata": {},
   "outputs": [],
   "source": [
    "#q2\n",
    "x= input()\n",
    "y=x+x\n",
    "z=y+x\n",
    "print(int(x)+int(y)+ int(z))"
   ]
  },
  {
   "cell_type": "code",
   "execution_count": null,
   "id": "3764f3fe",
   "metadata": {},
   "outputs": [],
   "source": [
    "#3\n",
    "x=int(input())\n",
    "if x%2 ==0:\n",
    "    print (\"even\")\n",
    "else:\n",
    "    print (\"odd\")\n"
   ]
  },
  {
   "cell_type": "code",
   "execution_count": null,
   "id": "f3bb98b3",
   "metadata": {},
   "outputs": [],
   "source": [
    "#4\n",
    "for i in range (2000,3201):\n",
    "    if (i%7==0)and (i%5!=0):\n",
    "        print (i)"
   ]
  },
  {
   "cell_type": "code",
   "execution_count": null,
   "id": "e81a5b32",
   "metadata": {},
   "outputs": [],
   "source": [
    "#5\n",
    "x = int(input())\n",
    "result =1\n",
    "while x> 0:\n",
    "    result *= x\n",
    "    x=x-1\n",
    "    print (result) "
   ]
  },
  {
   "cell_type": "code",
   "execution_count": null,
   "id": "45f33f1a",
   "metadata": {},
   "outputs": [],
   "source": [
    "#6\n",
    "y = \"\"\n",
    "x=\"hello team\"\n",
    "for i in range (len(x)):\n",
    "    if i %2==0:\n",
    "        y+=x[i]\n",
    "print(y)\n"
   ]
  },
  {
   "cell_type": "code",
   "execution_count": null,
   "id": "cf0a5c56",
   "metadata": {},
   "outputs": [],
   "source": [
    "#7\n",
    "x=int(input())\n",
    "if x > 499:\n",
    "    print(x*0.5)\n",
    "elif x in range (199,500):\n",
    "    print (x*0.7)\n",
    "else:\n",
    "    print(x*0.9)\n",
    "    "
   ]
  },
  {
   "cell_type": "code",
   "execution_count": null,
   "id": "3bc84110",
   "metadata": {},
   "outputs": [],
   "source": []
  }
 ],
 "metadata": {
  "kernelspec": {
   "display_name": "Python 3 (ipykernel)",
   "language": "python",
   "name": "python3"
  },
  "language_info": {
   "codemirror_mode": {
    "name": "ipython",
    "version": 3
   },
   "file_extension": ".py",
   "mimetype": "text/x-python",
   "name": "python",
   "nbconvert_exporter": "python",
   "pygments_lexer": "ipython3",
   "version": "3.9.12"
  }
 },
 "nbformat": 4,
 "nbformat_minor": 5
}
