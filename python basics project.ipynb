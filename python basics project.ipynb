{
 "cells": [
  {
   "cell_type": "code",
   "execution_count": 1,
   "id": "c8ce39a7",
   "metadata": {},
   "outputs": [],
   "source": [
    "#Welcome to the Guess the Number game!\n",
    "#I'm thinking of a number between 1 and 100. Can you guess what it is?\n",
    "#Enter your guess: 50\n",
    "#Your guess is too high. Guess again.\n",
    "#Enter your guess: 25\n",
    "#Your guess is too low. Guess again.\n",
    "#Enter your guess: 37\n",
    "\n",
    "#Your guess is too high. Guess again.\n",
    "\n",
    "#Enter your guess: 31\n",
    "\n",
    "#Congratulations! You guessed the number correctly!\n",
    "\n",
    " #------------------------------------\n",
    "#Use the 'input' function to prompt the player to enter their guess as a string.\n",
    "#Use the 'int' function to convert the player's guess to an integer.\n",
    "#Use the 'import' statement to import the 'random' module.\n",
    "#Use the 'random.randint()' function to generate a random integer between 1 and 100.\n",
    "\n",
    "##Use an 'if/else' statement to check if the player's guess is too high, too low, or correct.\n",
    "#Use the 'print' function to provide feedback to the player based on their guess.\n",
    "#Use a 'while' loop to continue prompting the player for guesses until they correctly guess the number.\n",
    "#Note: \n",
    "\n",
    "#The game can be customized to allow the player to choose the range of numbers or the number of guesses they are allowed before they lose the game."
   ]
  },
  {
   "cell_type": "code",
   "execution_count": 10,
   "id": "a4c777b7",
   "metadata": {},
   "outputs": [
    {
     "name": "stdout",
     "output_type": "stream",
     "text": [
      "Welcome to the Guess the Number game!\n"
     ]
    }
   ],
   "source": [
    "print(\"Welcome to the Guess the Number game!\")"
   ]
  },
  {
   "cell_type": "code",
   "execution_count": 11,
   "id": "520854dd",
   "metadata": {},
   "outputs": [
    {
     "name": "stdout",
     "output_type": "stream",
     "text": [
      "I'm thinking of a number between 1 and 100. Can you guess what it is?\n"
     ]
    }
   ],
   "source": [
    "print(\"I'm thinking of a number between 1 and 100. Can you guess what it is?\")"
   ]
  },
  {
   "cell_type": "code",
   "execution_count": 17,
   "id": "1891fb02",
   "metadata": {},
   "outputs": [
    {
     "name": "stdout",
     "output_type": "stream",
     "text": [
      "Enter your guess:4\n"
     ]
    }
   ],
   "source": [
    "player_guess=int(input(\"Enter your guess:\"))\n"
   ]
  },
  {
   "cell_type": "code",
   "execution_count": 18,
   "id": "08d3a3f9",
   "metadata": {},
   "outputs": [],
   "source": [
    "import random"
   ]
  },
  {
   "cell_type": "code",
   "execution_count": 19,
   "id": "a4f29504",
   "metadata": {},
   "outputs": [
    {
     "name": "stdout",
     "output_type": "stream",
     "text": [
      "73\n"
     ]
    }
   ],
   "source": [
    "print(random.randint(1,100))"
   ]
  },
  {
   "cell_type": "code",
   "execution_count": 20,
   "id": "d5d106c0",
   "metadata": {},
   "outputs": [],
   "source": [
    "comp_guess=(random.randint(1,100))"
   ]
  },
  {
   "cell_type": "code",
   "execution_count": 21,
   "id": "1d6975c9",
   "metadata": {},
   "outputs": [
    {
     "name": "stdout",
     "output_type": "stream",
     "text": [
      "Your guess is too low. Guess again.\n"
     ]
    }
   ],
   "source": [
    "if comp_guess<player_guess:\n",
    "      print('Your guess is too high. Guess again.')\n",
    "elif comp_guess>player_guess:\n",
    "      print('Your guess is too low. Guess again.')\n",
    "\n",
    "else: \n",
    "      print(\"Congratulations! You guessed the number correctly!\")"
   ]
  },
  {
   "cell_type": "code",
   "execution_count": null,
   "id": "f7aeed77",
   "metadata": {},
   "outputs": [],
   "source": []
  },
  {
   "cell_type": "code",
   "execution_count": null,
   "id": "e82be168",
   "metadata": {},
   "outputs": [],
   "source": []
  },
  {
   "cell_type": "code",
   "execution_count": null,
   "id": "efb3807a",
   "metadata": {},
   "outputs": [],
   "source": []
  },
  {
   "cell_type": "code",
   "execution_count": null,
   "id": "37048040",
   "metadata": {},
   "outputs": [],
   "source": []
  }
 ],
 "metadata": {
  "kernelspec": {
   "display_name": "Python 3 (ipykernel)",
   "language": "python",
   "name": "python3"
  },
  "language_info": {
   "codemirror_mode": {
    "name": "ipython",
    "version": 3
   },
   "file_extension": ".py",
   "mimetype": "text/x-python",
   "name": "python",
   "nbconvert_exporter": "python",
   "pygments_lexer": "ipython3",
   "version": "3.9.13"
  }
 },
 "nbformat": 4,
 "nbformat_minor": 5
}
